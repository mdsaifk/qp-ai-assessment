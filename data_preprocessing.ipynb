{
 "cells": [
  {
   "cell_type": "code",
   "execution_count": null,
   "metadata": {},
   "outputs": [],
   "source": [
    "import os\n",
    "os.environ[\"OPENAI_API_KEY\"] = \".................\""
   ]
  },
  {
   "cell_type": "code",
   "execution_count": null,
   "metadata": {},
   "outputs": [],
   "source": [
    "\n",
    "from langchain.document_loaders import PyPDFLoader\n",
    "from langchain.embeddings import OpenAIEmbeddings\n",
    "from langchain.vectorstores import Chroma\n",
    "import os\n",
    "# Replace 'your_folder_path' with the path to the folder containing your PDF files\n",
    "dir_path = 'data'\n",
    "\n",
    "# Initialize a list to store loaded documents\n",
    "all_docs = []\n",
    "\n",
    "# Iterate over each file in the folder\n",
    "for filename in os.listdir(dir_path):\n",
    "    if filename.endswith(\".pdf\"):  # Adjust the file extension as needed\n",
    "        file_path = os.path.join(dir_path, filename)\n",
    "\n",
    "        # Create a PyPDFLoader object for the current PDF file\n",
    "        loader = PyPDFLoader(file_path)\n",
    "\n",
    "        # Load the document\n",
    "        docs = loader.load()\n",
    "\n",
    "        # Assuming PyPDFLoader.load() returns a list of documents\n",
    "        all_docs.extend(docs)\n",
    "\n",
    "# Print the total number of loaded documents\n",
    "print(\"Total number of documents loaded:\", len(all_docs))\n"
   ]
  },
  {
   "cell_type": "code",
   "execution_count": null,
   "metadata": {},
   "outputs": [],
   "source": [
    "all_docs"
   ]
  },
  {
   "cell_type": "code",
   "execution_count": null,
   "metadata": {},
   "outputs": [],
   "source": [
    "persist_directory = 'chroma_db_vectorstore'\n",
    "embedding = OpenAIEmbeddings(model='text-embedding-ada-002')\n",
    "doc_with_embedding = Chroma.from_documents(documents=all_docs, embedding=embedding,persist_directory= persist_directory)\n",
    "doc_with_embedding.persist()"
   ]
  },
  {
   "cell_type": "code",
   "execution_count": null,
   "metadata": {},
   "outputs": [],
   "source": []
  },
  {
   "cell_type": "code",
   "execution_count": null,
   "metadata": {},
   "outputs": [],
   "source": []
  },
  {
   "cell_type": "code",
   "execution_count": null,
   "metadata": {},
   "outputs": [],
   "source": []
  },
  {
   "cell_type": "code",
   "execution_count": null,
   "metadata": {},
   "outputs": [],
   "source": []
  }
 ],
 "metadata": {
  "kernelspec": {
   "display_name": "canonizer",
   "language": "python",
   "name": "python3"
  },
  "language_info": {
   "codemirror_mode": {
    "name": "ipython",
    "version": 3
   },
   "file_extension": ".py",
   "mimetype": "text/x-python",
   "name": "python",
   "nbconvert_exporter": "python",
   "pygments_lexer": "ipython3",
   "version": "3.10.12"
  }
 },
 "nbformat": 4,
 "nbformat_minor": 2
}
